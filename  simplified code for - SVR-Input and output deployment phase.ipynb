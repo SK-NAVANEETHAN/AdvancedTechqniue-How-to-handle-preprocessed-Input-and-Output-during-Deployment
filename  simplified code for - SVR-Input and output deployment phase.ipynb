{
 "cells": [
  {
   "cell_type": "code",
   "execution_count": 1,
   "id": "7901fbae",
   "metadata": {},
   "outputs": [],
   "source": [
    "import pickle\n",
    "import pandas as pd\n",
    "from sklearn.model_selection import train_test_split\n",
    "from sklearn.preprocessing import StandardScaler"
   ]
  },
  {
   "cell_type": "code",
   "execution_count": 2,
   "id": "97b44b20",
   "metadata": {},
   "outputs": [],
   "source": [
    "dataset = pd.read_csv('50_Startups.csv')\n",
    "dataset = pd.get_dummies(dataset, drop_first=True).astype(int)"
   ]
  },
  {
   "cell_type": "code",
   "execution_count": 3,
   "id": "d44842ea",
   "metadata": {},
   "outputs": [],
   "source": [
    "independent = dataset[['R&D Spend', 'Administration', 'Marketing Spend', 'State_Florida', 'State_New York']]\n",
    "dependent = dataset[['Profit']]"
   ]
  },
  {
   "cell_type": "code",
   "execution_count": 4,
   "id": "42f4edc7",
   "metadata": {},
   "outputs": [],
   "source": [
    "X_train, X_test, y_train, y_test = train_test_split(independent, dependent, test_size=1/3, random_state=0)"
   ]
  },
  {
   "cell_type": "code",
   "execution_count": 5,
   "id": "7f93f7a1",
   "metadata": {},
   "outputs": [],
   "source": [
    "sc_X = StandardScaler()\n",
    "sc_y = StandardScaler()"
   ]
  },
  {
   "cell_type": "code",
   "execution_count": 6,
   "id": "c1b703fd",
   "metadata": {},
   "outputs": [],
   "source": [
    "X_train = sc_X.fit_transform(X_train)\n",
    "X_test = sc_X.transform(X_test)\n",
    "y_train = sc_y.fit_transform(y_train)\n",
    "y_test = sc_y.transform(y_test)"
   ]
  },
  {
   "cell_type": "code",
   "execution_count": 7,
   "id": "05ca29b6",
   "metadata": {},
   "outputs": [
    {
     "name": "stderr",
     "output_type": "stream",
     "text": [
      "C:\\Users\\Navaneethan\\anaconda3\\Lib\\site-packages\\sklearn\\base.py:464: UserWarning: X does not have valid feature names, but StandardScaler was fitted with feature names\n",
      "  warnings.warn(\n"
     ]
    }
   ],
   "source": [
    "preinput = sc_X.transform([[3000, 4000, 5000, 0, 1]])"
   ]
  },
  {
   "cell_type": "code",
   "execution_count": 8,
   "id": "ed1c08d5",
   "metadata": {},
   "outputs": [],
   "source": [
    "with open(\"finalized_input_output_model_svr.sav\", \"rb\") as model_file:\n",
    "    loaded_model = pickle.load(model_file)"
   ]
  },
  {
   "cell_type": "code",
   "execution_count": 9,
   "id": "2ce1e020",
   "metadata": {},
   "outputs": [],
   "source": [
    "result = loaded_model.predict(preinput)"
   ]
  },
  {
   "cell_type": "code",
   "execution_count": 10,
   "id": "e9724ece",
   "metadata": {},
   "outputs": [],
   "source": [
    "preoutput = sc_y.inverse_transform([result])"
   ]
  },
  {
   "cell_type": "code",
   "execution_count": 11,
   "id": "fa2db08b",
   "metadata": {},
   "outputs": [
    {
     "data": {
      "text/plain": [
       "array([[45968.12356438]])"
      ]
     },
     "execution_count": 11,
     "metadata": {},
     "output_type": "execute_result"
    }
   ],
   "source": [
    "preoutput"
   ]
  },
  {
   "cell_type": "code",
   "execution_count": null,
   "id": "b3b71c4c",
   "metadata": {},
   "outputs": [],
   "source": []
  }
 ],
 "metadata": {
  "kernelspec": {
   "display_name": "Python 3 (ipykernel)",
   "language": "python",
   "name": "python3"
  },
  "language_info": {
   "codemirror_mode": {
    "name": "ipython",
    "version": 3
   },
   "file_extension": ".py",
   "mimetype": "text/x-python",
   "name": "python",
   "nbconvert_exporter": "python",
   "pygments_lexer": "ipython3",
   "version": "3.11.5"
  }
 },
 "nbformat": 4,
 "nbformat_minor": 5
}
